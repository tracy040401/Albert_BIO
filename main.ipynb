{
 "cells": [
  {
   "cell_type": "code",
   "execution_count": 87,
   "metadata": {},
   "outputs": [],
   "source": [
    "import spacy \n",
    "import numpy as np\n",
    "import emb_spacy\n",
    "from keras.models import Model\n",
    "from keras.layers import Dense, Input, Dropout, LSTM, Activation, Bidirectional, GRU\n",
    "from keras.metrics import Accuracy, Precision, Recall, F1Score, MeanSquaredError\n",
    "\n",
    "\n",
    "\n",
    "\n",
    "from emb_spacy import get_embedding\n",
    "from input import count_examples_and_max_length, pad_sentences_from_file\n",
    "import label"
   ]
  },
  {
   "cell_type": "markdown",
   "metadata": {},
   "source": [
    "### Lecture des données "
   ]
  },
  {
   "cell_type": "code",
   "execution_count": 88,
   "metadata": {},
   "outputs": [
    {
     "name": "stdout",
     "output_type": "stream",
     "text": [
      "Nombre d'exemples : 3945\n",
      "Taille maximale de la phrase : 41\n",
      "vecteur :  (3945, 41)\n"
     ]
    }
   ],
   "source": [
    "# Ouverture en lecture des données\n",
    "with open(\"train_corpus\", \"r\", encoding=\"utf-8\") as file:\n",
    "    data = file.readlines()\n",
    "\n",
    "# Compter les exemples et trouver la taille maximale\n",
    "num_examples, MAX_SEQ_SIZE = count_examples_and_max_length(data)\n",
    "\n",
    "# Affichage des résultats\n",
    "print(\"Nombre d'exemples :\", num_examples) \n",
    "print(\"Taille maximale de la phrase :\", MAX_SEQ_SIZE)\n",
    "\n",
    "vec_word, sortie = pad_sentences_from_file(\"train_corpus\", MAX_SEQ_SIZE)\n",
    "print(\"vecteur : \", vec_word.shape)\n",
    "# vec_word.shape : (3945, 41)\n",
    "# sortie.shape : (3945, 41)"
   ]
  },
  {
   "cell_type": "markdown",
   "metadata": {},
   "source": [
    "### Création des vecteurs d'entrée et de sortie"
   ]
  },
  {
   "cell_type": "code",
   "execution_count": 89,
   "metadata": {},
   "outputs": [
    {
     "name": "stdout",
     "output_type": "stream",
     "text": [
      "entree shape :  (3945, 41, 300)\n",
      "sortie shape :  (3945, 41)\n"
     ]
    }
   ],
   "source": [
    "# Création du vecteur d'entrée \n",
    "entree = np.zeros((num_examples, MAX_SEQ_SIZE, 300))\n",
    "for i, sentence in enumerate(vec_word):\n",
    "    for j, word in enumerate(sentence):\n",
    "        if word:\n",
    "            entree[i, j] = get_embedding(word)\n",
    "        else:\n",
    "            entree[i, j] = np.zeros(300)\n",
    "\n",
    "print(\"entree shape : \", entree.shape)\n",
    "print(\"sortie shape : \", sortie.shape)"
   ]
  },
  {
   "cell_type": "code",
   "execution_count": 90,
   "metadata": {},
   "outputs": [],
   "source": [
    "labels = label.extract_label(\"atis.train\")\n",
    "label_one_hot_dict = {label_: label.get_vector_from_label(label_) for label_ in labels} # création d'un dictionnaire associant chaque label à son vecteur one hot \n",
    "\n",
    "nbLabels = len(labels)\n",
    "embedding_size = len(entree[0][0])\n",
    "\n",
    "tailleDictionnaire = emb_spacy.get_size_dict()  "
   ]
  },
  {
   "cell_type": "code",
   "execution_count": 91,
   "metadata": {},
   "outputs": [],
   "source": [
    "# print(sortie[0])\n",
    "sortie_one_hot = np.zeros((sortie.shape[0], sortie.shape[1], len(label_one_hot_dict['O'])), dtype=int)\n",
    "zero_vec = np.zeros(len(label_one_hot_dict['O']), dtype=int)\n",
    "for i in range(sortie.shape[0]):\n",
    "    for j in range(sortie.shape[1]):\n",
    "        label = sortie[i, j]\n",
    "        if label == '0':\n",
    "            sortie_one_hot[i, j] = zero_vec\n",
    "        else:\n",
    "            sortie_one_hot[i, j] = label_one_hot_dict[label]"
   ]
  },
  {
   "cell_type": "markdown",
   "metadata": {},
   "source": [
    "### Modèle LSTM"
   ]
  },
  {
   "cell_type": "markdown",
   "metadata": {},
   "source": [
    "#### Configuration du modèle"
   ]
  },
  {
   "cell_type": "code",
   "execution_count": 92,
   "metadata": {},
   "outputs": [
    {
     "name": "stdout",
     "output_type": "stream",
     "text": [
      "config ok\n",
      "create ok\n",
      "compil ok\n"
     ]
    },
    {
     "data": {
      "text/html": [
       "<pre style=\"white-space:pre;overflow-x:auto;line-height:normal;font-family:Menlo,'DejaVu Sans Mono',consolas,'Courier New',monospace\"><span style=\"font-weight: bold\">Model: \"functional_15\"</span>\n",
       "</pre>\n"
      ],
      "text/plain": [
       "\u001b[1mModel: \"functional_15\"\u001b[0m\n"
      ]
     },
     "metadata": {},
     "output_type": "display_data"
    },
    {
     "data": {
      "text/html": [
       "<pre style=\"white-space:pre;overflow-x:auto;line-height:normal;font-family:Menlo,'DejaVu Sans Mono',consolas,'Courier New',monospace\">┏━━━━━━━━━━━━━━━━━━━━━━━━━━━━━━━━━┳━━━━━━━━━━━━━━━━━━━━━━━━┳━━━━━━━━━━━━━━━┓\n",
       "┃<span style=\"font-weight: bold\"> Layer (type)                    </span>┃<span style=\"font-weight: bold\"> Output Shape           </span>┃<span style=\"font-weight: bold\">       Param # </span>┃\n",
       "┡━━━━━━━━━━━━━━━━━━━━━━━━━━━━━━━━━╇━━━━━━━━━━━━━━━━━━━━━━━━╇━━━━━━━━━━━━━━━┩\n",
       "│ input_layer_8 (<span style=\"color: #0087ff; text-decoration-color: #0087ff\">InputLayer</span>)      │ (<span style=\"color: #00d7ff; text-decoration-color: #00d7ff\">None</span>, <span style=\"color: #00af00; text-decoration-color: #00af00\">41</span>, <span style=\"color: #00af00; text-decoration-color: #00af00\">300</span>)        │             <span style=\"color: #00af00; text-decoration-color: #00af00\">0</span> │\n",
       "├─────────────────────────────────┼────────────────────────┼───────────────┤\n",
       "│ lstm_4 (<span style=\"color: #0087ff; text-decoration-color: #0087ff\">LSTM</span>)                   │ (<span style=\"color: #00d7ff; text-decoration-color: #00d7ff\">None</span>, <span style=\"color: #00af00; text-decoration-color: #00af00\">41</span>, <span style=\"color: #00af00; text-decoration-color: #00af00\">128</span>)        │       <span style=\"color: #00af00; text-decoration-color: #00af00\">219,648</span> │\n",
       "├─────────────────────────────────┼────────────────────────┼───────────────┤\n",
       "│ dropout_7 (<span style=\"color: #0087ff; text-decoration-color: #0087ff\">Dropout</span>)             │ (<span style=\"color: #00d7ff; text-decoration-color: #00d7ff\">None</span>, <span style=\"color: #00af00; text-decoration-color: #00af00\">41</span>, <span style=\"color: #00af00; text-decoration-color: #00af00\">128</span>)        │             <span style=\"color: #00af00; text-decoration-color: #00af00\">0</span> │\n",
       "├─────────────────────────────────┼────────────────────────┼───────────────┤\n",
       "│ dense_7 (<span style=\"color: #0087ff; text-decoration-color: #0087ff\">Dense</span>)                 │ (<span style=\"color: #00d7ff; text-decoration-color: #00d7ff\">None</span>, <span style=\"color: #00af00; text-decoration-color: #00af00\">41</span>, <span style=\"color: #00af00; text-decoration-color: #00af00\">81</span>)         │        <span style=\"color: #00af00; text-decoration-color: #00af00\">10,449</span> │\n",
       "├─────────────────────────────────┼────────────────────────┼───────────────┤\n",
       "│ activation_7 (<span style=\"color: #0087ff; text-decoration-color: #0087ff\">Activation</span>)       │ (<span style=\"color: #00d7ff; text-decoration-color: #00d7ff\">None</span>, <span style=\"color: #00af00; text-decoration-color: #00af00\">41</span>, <span style=\"color: #00af00; text-decoration-color: #00af00\">81</span>)         │             <span style=\"color: #00af00; text-decoration-color: #00af00\">0</span> │\n",
       "└─────────────────────────────────┴────────────────────────┴───────────────┘\n",
       "</pre>\n"
      ],
      "text/plain": [
       "┏━━━━━━━━━━━━━━━━━━━━━━━━━━━━━━━━━┳━━━━━━━━━━━━━━━━━━━━━━━━┳━━━━━━━━━━━━━━━┓\n",
       "┃\u001b[1m \u001b[0m\u001b[1mLayer (type)                   \u001b[0m\u001b[1m \u001b[0m┃\u001b[1m \u001b[0m\u001b[1mOutput Shape          \u001b[0m\u001b[1m \u001b[0m┃\u001b[1m \u001b[0m\u001b[1m      Param #\u001b[0m\u001b[1m \u001b[0m┃\n",
       "┡━━━━━━━━━━━━━━━━━━━━━━━━━━━━━━━━━╇━━━━━━━━━━━━━━━━━━━━━━━━╇━━━━━━━━━━━━━━━┩\n",
       "│ input_layer_8 (\u001b[38;5;33mInputLayer\u001b[0m)      │ (\u001b[38;5;45mNone\u001b[0m, \u001b[38;5;34m41\u001b[0m, \u001b[38;5;34m300\u001b[0m)        │             \u001b[38;5;34m0\u001b[0m │\n",
       "├─────────────────────────────────┼────────────────────────┼───────────────┤\n",
       "│ lstm_4 (\u001b[38;5;33mLSTM\u001b[0m)                   │ (\u001b[38;5;45mNone\u001b[0m, \u001b[38;5;34m41\u001b[0m, \u001b[38;5;34m128\u001b[0m)        │       \u001b[38;5;34m219,648\u001b[0m │\n",
       "├─────────────────────────────────┼────────────────────────┼───────────────┤\n",
       "│ dropout_7 (\u001b[38;5;33mDropout\u001b[0m)             │ (\u001b[38;5;45mNone\u001b[0m, \u001b[38;5;34m41\u001b[0m, \u001b[38;5;34m128\u001b[0m)        │             \u001b[38;5;34m0\u001b[0m │\n",
       "├─────────────────────────────────┼────────────────────────┼───────────────┤\n",
       "│ dense_7 (\u001b[38;5;33mDense\u001b[0m)                 │ (\u001b[38;5;45mNone\u001b[0m, \u001b[38;5;34m41\u001b[0m, \u001b[38;5;34m81\u001b[0m)         │        \u001b[38;5;34m10,449\u001b[0m │\n",
       "├─────────────────────────────────┼────────────────────────┼───────────────┤\n",
       "│ activation_7 (\u001b[38;5;33mActivation\u001b[0m)       │ (\u001b[38;5;45mNone\u001b[0m, \u001b[38;5;34m41\u001b[0m, \u001b[38;5;34m81\u001b[0m)         │             \u001b[38;5;34m0\u001b[0m │\n",
       "└─────────────────────────────────┴────────────────────────┴───────────────┘\n"
      ]
     },
     "metadata": {},
     "output_type": "display_data"
    },
    {
     "data": {
      "text/html": [
       "<pre style=\"white-space:pre;overflow-x:auto;line-height:normal;font-family:Menlo,'DejaVu Sans Mono',consolas,'Courier New',monospace\"><span style=\"font-weight: bold\"> Total params: </span><span style=\"color: #00af00; text-decoration-color: #00af00\">230,097</span> (898.82 KB)\n",
       "</pre>\n"
      ],
      "text/plain": [
       "\u001b[1m Total params: \u001b[0m\u001b[38;5;34m230,097\u001b[0m (898.82 KB)\n"
      ]
     },
     "metadata": {},
     "output_type": "display_data"
    },
    {
     "data": {
      "text/html": [
       "<pre style=\"white-space:pre;overflow-x:auto;line-height:normal;font-family:Menlo,'DejaVu Sans Mono',consolas,'Courier New',monospace\"><span style=\"font-weight: bold\"> Trainable params: </span><span style=\"color: #00af00; text-decoration-color: #00af00\">230,097</span> (898.82 KB)\n",
       "</pre>\n"
      ],
      "text/plain": [
       "\u001b[1m Trainable params: \u001b[0m\u001b[38;5;34m230,097\u001b[0m (898.82 KB)\n"
      ]
     },
     "metadata": {},
     "output_type": "display_data"
    },
    {
     "data": {
      "text/html": [
       "<pre style=\"white-space:pre;overflow-x:auto;line-height:normal;font-family:Menlo,'DejaVu Sans Mono',consolas,'Courier New',monospace\"><span style=\"font-weight: bold\"> Non-trainable params: </span><span style=\"color: #00af00; text-decoration-color: #00af00\">0</span> (0.00 B)\n",
       "</pre>\n"
      ],
      "text/plain": [
       "\u001b[1m Non-trainable params: \u001b[0m\u001b[38;5;34m0\u001b[0m (0.00 B)\n"
      ]
     },
     "metadata": {},
     "output_type": "display_data"
    },
    {
     "name": "stdout",
     "output_type": "stream",
     "text": [
      "None\n"
     ]
    }
   ],
   "source": [
    "\n",
    "config = {\n",
    "    'hidden_size': 128, # Taille de la couche cachée du RNN\n",
    "    'dropout_rate': 0.5,  # Taux de dropout\n",
    "    'nb_labels': nbLabels\n",
    "}  \n",
    "\n",
    "# Définir l'entrée du modèle\n",
    "# pas besoin de mettre le nb d'ex car il les fait passer un par un \n",
    "input_layer = Input(shape=(MAX_SEQ_SIZE, embedding_size), dtype='float32')\n",
    "\n",
    "# Ajouter une couche LSTM bidirectionnelle\n",
    "# X = Bidirectional(LSTM(units=config['hidden_size'], return_sequences=True))(input_layer)\n",
    "X = LSTM(units=config['hidden_size'], return_sequences=True)(input_layer)\n",
    "X = Dropout(config['dropout_rate'])(X)\n",
    "# X = LSTM(units = 128)(X)\n",
    "# X = Dropout(config['dropout_rate'])(X)\n",
    "\n",
    "X = Dense(units=config['nb_labels'])(X)\n",
    "X = Activation(activation='softmax')(X)\n",
    "print('config ok')\n",
    "\n",
    "# Création du model\n",
    "model = Model(inputs=input_layer, outputs=X)\n",
    "print(\"create ok\")\n",
    "\n",
    "# Compilation du modèle\n",
    "model.compile(optimizer='adam', loss='categorical_crossentropy', metrics=['accuracy', Precision(), Recall()])\n",
    "# NB : j'ai enlevé sparse car j'ai fait un vecteur one hot en sortie et sparse c'est pour quand c'est pas des one hot\n",
    "print(\"compil ok\")\n",
    "print(model.summary())"
   ]
  },
  {
   "cell_type": "markdown",
   "metadata": {},
   "source": [
    "### Entraînement du modèle LSTM\n",
    "- x : entree de la forme nb_example x MAX_SEQ_SIZE x embedding_size\n",
    "- y : sortie de la forme nb_example x MAX_SEQ_SIZE\n",
    "- batch_size : nb d'échantillon à utiliser à chaque itération lors de l'entrainement\n",
    "    - un batch_size + gd = accélère l'entrainement mais besoin de + de mémoire GPU\n",
    "    - plus petit = ralentit l'entrainement mais meilleure convergence du modèle\n",
    "- epochs : nb d'itération sur l'ens des données d'entrainement \n",
    "- validation_split : spécifie le fraction des données à utiliser comme données de validation"
   ]
  },
  {
   "cell_type": "code",
   "execution_count": 93,
   "metadata": {},
   "outputs": [
    {
     "name": "stdout",
     "output_type": "stream",
     "text": [
      "Epoch 1/10\n",
      "\u001b[1m25/25\u001b[0m \u001b[32m━━━━━━━━━━━━━━━━━━━━\u001b[0m\u001b[37m\u001b[0m \u001b[1m5s\u001b[0m 131ms/step - accuracy: 0.1538 - loss: 0.6819 - precision_7: 0.8401 - recall_7: 0.2003 - val_accuracy: 0.2111 - val_loss: 0.2086 - val_precision_7: 0.9401 - val_recall_7: 0.7784\n",
      "Epoch 2/10\n",
      "\u001b[1m25/25\u001b[0m \u001b[32m━━━━━━━━━━━━━━━━━━━━\u001b[0m\u001b[37m\u001b[0m \u001b[1m2s\u001b[0m 91ms/step - accuracy: 0.2982 - loss: 0.2005 - precision_7: 0.9531 - recall_7: 0.7884 - val_accuracy: 0.9591 - val_loss: 0.1522 - val_precision_7: 0.9556 - val_recall_7: 0.8377\n",
      "Epoch 3/10\n",
      "\u001b[1m25/25\u001b[0m \u001b[32m━━━━━━━━━━━━━━━━━━━━\u001b[0m\u001b[37m\u001b[0m \u001b[1m2s\u001b[0m 83ms/step - accuracy: 0.3537 - loss: 0.1395 - precision_7: 0.9700 - recall_7: 0.8431 - val_accuracy: 0.9669 - val_loss: 0.1305 - val_precision_7: 0.9610 - val_recall_7: 0.8546\n",
      "Epoch 4/10\n",
      "\u001b[1m25/25\u001b[0m \u001b[32m━━━━━━━━━━━━━━━━━━━━\u001b[0m\u001b[37m\u001b[0m \u001b[1m2s\u001b[0m 85ms/step - accuracy: 0.3801 - loss: 0.1122 - precision_7: 0.9743 - recall_7: 0.8702 - val_accuracy: 0.9561 - val_loss: 0.1156 - val_precision_7: 0.9624 - val_recall_7: 0.8641\n",
      "Epoch 5/10\n",
      "\u001b[1m25/25\u001b[0m \u001b[32m━━━━━━━━━━━━━━━━━━━━\u001b[0m\u001b[37m\u001b[0m \u001b[1m2s\u001b[0m 86ms/step - accuracy: 0.3653 - loss: 0.0989 - precision_7: 0.9762 - recall_7: 0.8834 - val_accuracy: 0.9765 - val_loss: 0.1055 - val_precision_7: 0.9642 - val_recall_7: 0.8699\n",
      "Epoch 6/10\n",
      "\u001b[1m25/25\u001b[0m \u001b[32m━━━━━━━━━━━━━━━━━━━━\u001b[0m\u001b[37m\u001b[0m \u001b[1m2s\u001b[0m 84ms/step - accuracy: 0.3815 - loss: 0.0871 - precision_7: 0.9785 - recall_7: 0.8937 - val_accuracy: 0.9769 - val_loss: 0.0982 - val_precision_7: 0.9665 - val_recall_7: 0.8766\n",
      "Epoch 7/10\n",
      "\u001b[1m25/25\u001b[0m \u001b[32m━━━━━━━━━━━━━━━━━━━━\u001b[0m\u001b[37m\u001b[0m \u001b[1m2s\u001b[0m 83ms/step - accuracy: 0.3826 - loss: 0.0805 - precision_7: 0.9807 - recall_7: 0.8981 - val_accuracy: 0.9784 - val_loss: 0.0915 - val_precision_7: 0.9702 - val_recall_7: 0.8782\n",
      "Epoch 8/10\n",
      "\u001b[1m25/25\u001b[0m \u001b[32m━━━━━━━━━━━━━━━━━━━━\u001b[0m\u001b[37m\u001b[0m \u001b[1m2s\u001b[0m 83ms/step - accuracy: 0.3857 - loss: 0.0748 - precision_7: 0.9787 - recall_7: 0.9054 - val_accuracy: 0.9780 - val_loss: 0.0872 - val_precision_7: 0.9714 - val_recall_7: 0.8841\n",
      "Epoch 9/10\n",
      "\u001b[1m25/25\u001b[0m \u001b[32m━━━━━━━━━━━━━━━━━━━━\u001b[0m\u001b[37m\u001b[0m \u001b[1m2s\u001b[0m 85ms/step - accuracy: 0.3753 - loss: 0.0680 - precision_7: 0.9799 - recall_7: 0.9122 - val_accuracy: 0.9798 - val_loss: 0.0824 - val_precision_7: 0.9727 - val_recall_7: 0.8849\n",
      "Epoch 10/10\n",
      "\u001b[1m25/25\u001b[0m \u001b[32m━━━━━━━━━━━━━━━━━━━━\u001b[0m\u001b[37m\u001b[0m \u001b[1m2s\u001b[0m 85ms/step - accuracy: 0.3714 - loss: 0.0660 - precision_7: 0.9817 - recall_7: 0.9155 - val_accuracy: 0.9805 - val_loss: 0.0792 - val_precision_7: 0.9731 - val_recall_7: 0.8893\n",
      "training ok\n"
     ]
    }
   ],
   "source": [
    "model.fit(x=entree, y=sortie_one_hot, batch_size=128, epochs=10, validation_split=0.2)\n",
    "print('training ok')"
   ]
  },
  {
   "cell_type": "markdown",
   "metadata": {},
   "source": [
    "### Modèle GRU"
   ]
  },
  {
   "cell_type": "markdown",
   "metadata": {},
   "source": [
    "#### Configuration du modèle"
   ]
  },
  {
   "cell_type": "code",
   "execution_count": 94,
   "metadata": {},
   "outputs": [
    {
     "name": "stdout",
     "output_type": "stream",
     "text": [
      "config ok\n",
      "create ok\n",
      "compil ok\n"
     ]
    },
    {
     "data": {
      "text/html": [
       "<pre style=\"white-space:pre;overflow-x:auto;line-height:normal;font-family:Menlo,'DejaVu Sans Mono',consolas,'Courier New',monospace\"><span style=\"font-weight: bold\">Model: \"functional_17\"</span>\n",
       "</pre>\n"
      ],
      "text/plain": [
       "\u001b[1mModel: \"functional_17\"\u001b[0m\n"
      ]
     },
     "metadata": {},
     "output_type": "display_data"
    },
    {
     "data": {
      "text/html": [
       "<pre style=\"white-space:pre;overflow-x:auto;line-height:normal;font-family:Menlo,'DejaVu Sans Mono',consolas,'Courier New',monospace\">┏━━━━━━━━━━━━━━━━━━━━━━━━━━━━━━━━━┳━━━━━━━━━━━━━━━━━━━━━━━━┳━━━━━━━━━━━━━━━┓\n",
       "┃<span style=\"font-weight: bold\"> Layer (type)                    </span>┃<span style=\"font-weight: bold\"> Output Shape           </span>┃<span style=\"font-weight: bold\">       Param # </span>┃\n",
       "┡━━━━━━━━━━━━━━━━━━━━━━━━━━━━━━━━━╇━━━━━━━━━━━━━━━━━━━━━━━━╇━━━━━━━━━━━━━━━┩\n",
       "│ input_layer_9 (<span style=\"color: #0087ff; text-decoration-color: #0087ff\">InputLayer</span>)      │ (<span style=\"color: #00d7ff; text-decoration-color: #00d7ff\">None</span>, <span style=\"color: #00af00; text-decoration-color: #00af00\">41</span>, <span style=\"color: #00af00; text-decoration-color: #00af00\">300</span>)        │             <span style=\"color: #00af00; text-decoration-color: #00af00\">0</span> │\n",
       "├─────────────────────────────────┼────────────────────────┼───────────────┤\n",
       "│ gru_3 (<span style=\"color: #0087ff; text-decoration-color: #0087ff\">GRU</span>)                     │ (<span style=\"color: #00d7ff; text-decoration-color: #00d7ff\">None</span>, <span style=\"color: #00af00; text-decoration-color: #00af00\">41</span>, <span style=\"color: #00af00; text-decoration-color: #00af00\">128</span>)        │       <span style=\"color: #00af00; text-decoration-color: #00af00\">165,120</span> │\n",
       "├─────────────────────────────────┼────────────────────────┼───────────────┤\n",
       "│ dropout_8 (<span style=\"color: #0087ff; text-decoration-color: #0087ff\">Dropout</span>)             │ (<span style=\"color: #00d7ff; text-decoration-color: #00d7ff\">None</span>, <span style=\"color: #00af00; text-decoration-color: #00af00\">41</span>, <span style=\"color: #00af00; text-decoration-color: #00af00\">128</span>)        │             <span style=\"color: #00af00; text-decoration-color: #00af00\">0</span> │\n",
       "├─────────────────────────────────┼────────────────────────┼───────────────┤\n",
       "│ dense_8 (<span style=\"color: #0087ff; text-decoration-color: #0087ff\">Dense</span>)                 │ (<span style=\"color: #00d7ff; text-decoration-color: #00d7ff\">None</span>, <span style=\"color: #00af00; text-decoration-color: #00af00\">41</span>, <span style=\"color: #00af00; text-decoration-color: #00af00\">81</span>)         │        <span style=\"color: #00af00; text-decoration-color: #00af00\">10,449</span> │\n",
       "├─────────────────────────────────┼────────────────────────┼───────────────┤\n",
       "│ activation_8 (<span style=\"color: #0087ff; text-decoration-color: #0087ff\">Activation</span>)       │ (<span style=\"color: #00d7ff; text-decoration-color: #00d7ff\">None</span>, <span style=\"color: #00af00; text-decoration-color: #00af00\">41</span>, <span style=\"color: #00af00; text-decoration-color: #00af00\">81</span>)         │             <span style=\"color: #00af00; text-decoration-color: #00af00\">0</span> │\n",
       "└─────────────────────────────────┴────────────────────────┴───────────────┘\n",
       "</pre>\n"
      ],
      "text/plain": [
       "┏━━━━━━━━━━━━━━━━━━━━━━━━━━━━━━━━━┳━━━━━━━━━━━━━━━━━━━━━━━━┳━━━━━━━━━━━━━━━┓\n",
       "┃\u001b[1m \u001b[0m\u001b[1mLayer (type)                   \u001b[0m\u001b[1m \u001b[0m┃\u001b[1m \u001b[0m\u001b[1mOutput Shape          \u001b[0m\u001b[1m \u001b[0m┃\u001b[1m \u001b[0m\u001b[1m      Param #\u001b[0m\u001b[1m \u001b[0m┃\n",
       "┡━━━━━━━━━━━━━━━━━━━━━━━━━━━━━━━━━╇━━━━━━━━━━━━━━━━━━━━━━━━╇━━━━━━━━━━━━━━━┩\n",
       "│ input_layer_9 (\u001b[38;5;33mInputLayer\u001b[0m)      │ (\u001b[38;5;45mNone\u001b[0m, \u001b[38;5;34m41\u001b[0m, \u001b[38;5;34m300\u001b[0m)        │             \u001b[38;5;34m0\u001b[0m │\n",
       "├─────────────────────────────────┼────────────────────────┼───────────────┤\n",
       "│ gru_3 (\u001b[38;5;33mGRU\u001b[0m)                     │ (\u001b[38;5;45mNone\u001b[0m, \u001b[38;5;34m41\u001b[0m, \u001b[38;5;34m128\u001b[0m)        │       \u001b[38;5;34m165,120\u001b[0m │\n",
       "├─────────────────────────────────┼────────────────────────┼───────────────┤\n",
       "│ dropout_8 (\u001b[38;5;33mDropout\u001b[0m)             │ (\u001b[38;5;45mNone\u001b[0m, \u001b[38;5;34m41\u001b[0m, \u001b[38;5;34m128\u001b[0m)        │             \u001b[38;5;34m0\u001b[0m │\n",
       "├─────────────────────────────────┼────────────────────────┼───────────────┤\n",
       "│ dense_8 (\u001b[38;5;33mDense\u001b[0m)                 │ (\u001b[38;5;45mNone\u001b[0m, \u001b[38;5;34m41\u001b[0m, \u001b[38;5;34m81\u001b[0m)         │        \u001b[38;5;34m10,449\u001b[0m │\n",
       "├─────────────────────────────────┼────────────────────────┼───────────────┤\n",
       "│ activation_8 (\u001b[38;5;33mActivation\u001b[0m)       │ (\u001b[38;5;45mNone\u001b[0m, \u001b[38;5;34m41\u001b[0m, \u001b[38;5;34m81\u001b[0m)         │             \u001b[38;5;34m0\u001b[0m │\n",
       "└─────────────────────────────────┴────────────────────────┴───────────────┘\n"
      ]
     },
     "metadata": {},
     "output_type": "display_data"
    },
    {
     "data": {
      "text/html": [
       "<pre style=\"white-space:pre;overflow-x:auto;line-height:normal;font-family:Menlo,'DejaVu Sans Mono',consolas,'Courier New',monospace\"><span style=\"font-weight: bold\"> Total params: </span><span style=\"color: #00af00; text-decoration-color: #00af00\">175,569</span> (685.82 KB)\n",
       "</pre>\n"
      ],
      "text/plain": [
       "\u001b[1m Total params: \u001b[0m\u001b[38;5;34m175,569\u001b[0m (685.82 KB)\n"
      ]
     },
     "metadata": {},
     "output_type": "display_data"
    },
    {
     "data": {
      "text/html": [
       "<pre style=\"white-space:pre;overflow-x:auto;line-height:normal;font-family:Menlo,'DejaVu Sans Mono',consolas,'Courier New',monospace\"><span style=\"font-weight: bold\"> Trainable params: </span><span style=\"color: #00af00; text-decoration-color: #00af00\">175,569</span> (685.82 KB)\n",
       "</pre>\n"
      ],
      "text/plain": [
       "\u001b[1m Trainable params: \u001b[0m\u001b[38;5;34m175,569\u001b[0m (685.82 KB)\n"
      ]
     },
     "metadata": {},
     "output_type": "display_data"
    },
    {
     "data": {
      "text/html": [
       "<pre style=\"white-space:pre;overflow-x:auto;line-height:normal;font-family:Menlo,'DejaVu Sans Mono',consolas,'Courier New',monospace\"><span style=\"font-weight: bold\"> Non-trainable params: </span><span style=\"color: #00af00; text-decoration-color: #00af00\">0</span> (0.00 B)\n",
       "</pre>\n"
      ],
      "text/plain": [
       "\u001b[1m Non-trainable params: \u001b[0m\u001b[38;5;34m0\u001b[0m (0.00 B)\n"
      ]
     },
     "metadata": {},
     "output_type": "display_data"
    },
    {
     "name": "stdout",
     "output_type": "stream",
     "text": [
      "None\n"
     ]
    }
   ],
   "source": [
    "\n",
    "config = {\n",
    "    'hidden_size': 128, # Taille de la couche cachée du RNN\n",
    "    'dropout_rate': 0.5,  # Taux de dropout\n",
    "    'nb_labels': nbLabels\n",
    "}  \n",
    "\n",
    "# Définir l'entrée du modèle\n",
    "# pas besoin de mettre le nb d'ex car il les fait passer un par un \n",
    "input_layer = Input(shape=(MAX_SEQ_SIZE, embedding_size), dtype='float32')\n",
    "\n",
    "# Ajouter une couche LSTM bidirectionnelle\n",
    "# X = Bidirectional(LSTM(units=config['hidden_size'], return_sequences=True))(input_layer)\n",
    "X = GRU(units=config['hidden_size'], return_sequences=True)(input_layer)\n",
    "X = Dropout(config['dropout_rate'])(X)\n",
    "# X = LSTM(units = 128)(X)\n",
    "# X = Dropout(config['dropout_rate'])(X)\n",
    "\n",
    "X = Dense(units=config['nb_labels'])(X)\n",
    "X = Activation(activation='softmax')(X)\n",
    "print('config ok')\n",
    "\n",
    "# Création du model\n",
    "model_GRU = Model(inputs=input_layer, outputs=X)\n",
    "print(\"create ok\")\n",
    "\n",
    "# Compilation du modèle\n",
    "model_GRU.compile(optimizer='adam', loss='categorical_crossentropy', metrics=['accuracy', Precision(), Recall()])\n",
    "# NB : j'ai enlevé sparse car j'ai fait un vecteur one hot en sortie et sparse c'est pour quand c'est pas des one hot\n",
    "print(\"compil ok\")\n",
    "print(model_GRU.summary())"
   ]
  },
  {
   "cell_type": "markdown",
   "metadata": {},
   "source": [
    "#### Entrainement du modèle"
   ]
  },
  {
   "cell_type": "code",
   "execution_count": 95,
   "metadata": {},
   "outputs": [
    {
     "name": "stdout",
     "output_type": "stream",
     "text": [
      "Epoch 1/10\n",
      "\u001b[1m25/25\u001b[0m \u001b[32m━━━━━━━━━━━━━━━━━━━━\u001b[0m\u001b[37m\u001b[0m \u001b[1m6s\u001b[0m 92ms/step - accuracy: 0.1628 - loss: 0.6850 - precision_8: 0.8249 - recall_8: 0.2774 - val_accuracy: 0.8201 - val_loss: 0.2199 - val_precision_8: 0.9474 - val_recall_8: 0.7521\n",
      "Epoch 2/10\n",
      "\u001b[1m25/25\u001b[0m \u001b[32m━━━━━━━━━━━━━━━━━━━━\u001b[0m\u001b[37m\u001b[0m \u001b[1m2s\u001b[0m 77ms/step - accuracy: 0.3934 - loss: 0.2290 - precision_8: 0.9458 - recall_8: 0.7563 - val_accuracy: 0.9329 - val_loss: 0.1770 - val_precision_8: 0.9586 - val_recall_8: 0.8124\n",
      "Epoch 3/10\n",
      "\u001b[1m25/25\u001b[0m \u001b[32m━━━━━━━━━━━━━━━━━━━━\u001b[0m\u001b[37m\u001b[0m \u001b[1m2s\u001b[0m 73ms/step - accuracy: 0.3932 - loss: 0.1856 - precision_8: 0.9573 - recall_8: 0.7933 - val_accuracy: 0.9547 - val_loss: 0.1561 - val_precision_8: 0.9644 - val_recall_8: 0.8339\n",
      "Epoch 4/10\n",
      "\u001b[1m25/25\u001b[0m \u001b[32m━━━━━━━━━━━━━━━━━━━━\u001b[0m\u001b[37m\u001b[0m \u001b[1m2s\u001b[0m 76ms/step - accuracy: 0.3978 - loss: 0.1600 - precision_8: 0.9619 - recall_8: 0.8220 - val_accuracy: 0.9596 - val_loss: 0.1419 - val_precision_8: 0.9668 - val_recall_8: 0.8429\n",
      "Epoch 5/10\n",
      "\u001b[1m25/25\u001b[0m \u001b[32m━━━━━━━━━━━━━━━━━━━━\u001b[0m\u001b[37m\u001b[0m \u001b[1m2s\u001b[0m 75ms/step - accuracy: 0.4020 - loss: 0.1442 - precision_8: 0.9655 - recall_8: 0.8402 - val_accuracy: 0.9625 - val_loss: 0.1306 - val_precision_8: 0.9689 - val_recall_8: 0.8507\n",
      "Epoch 6/10\n",
      "\u001b[1m25/25\u001b[0m \u001b[32m━━━━━━━━━━━━━━━━━━━━\u001b[0m\u001b[37m\u001b[0m \u001b[1m2s\u001b[0m 75ms/step - accuracy: 0.4035 - loss: 0.1308 - precision_8: 0.9672 - recall_8: 0.8517 - val_accuracy: 0.9699 - val_loss: 0.1231 - val_precision_8: 0.9711 - val_recall_8: 0.8565\n",
      "Epoch 7/10\n",
      "\u001b[1m25/25\u001b[0m \u001b[32m━━━━━━━━━━━━━━━━━━━━\u001b[0m\u001b[37m\u001b[0m \u001b[1m2s\u001b[0m 75ms/step - accuracy: 0.4006 - loss: 0.1232 - precision_8: 0.9705 - recall_8: 0.8576 - val_accuracy: 0.9742 - val_loss: 0.1171 - val_precision_8: 0.9709 - val_recall_8: 0.8605\n",
      "Epoch 8/10\n",
      "\u001b[1m25/25\u001b[0m \u001b[32m━━━━━━━━━━━━━━━━━━━━\u001b[0m\u001b[37m\u001b[0m \u001b[1m2s\u001b[0m 76ms/step - accuracy: 0.4061 - loss: 0.1139 - precision_8: 0.9696 - recall_8: 0.8680 - val_accuracy: 0.9760 - val_loss: 0.1117 - val_precision_8: 0.9718 - val_recall_8: 0.8666\n",
      "Epoch 9/10\n",
      "\u001b[1m25/25\u001b[0m \u001b[32m━━━━━━━━━━━━━━━━━━━━\u001b[0m\u001b[37m\u001b[0m \u001b[1m2s\u001b[0m 76ms/step - accuracy: 0.4067 - loss: 0.1101 - precision_8: 0.9737 - recall_8: 0.8715 - val_accuracy: 0.9767 - val_loss: 0.1077 - val_precision_8: 0.9706 - val_recall_8: 0.8713\n",
      "Epoch 10/10\n",
      "\u001b[1m25/25\u001b[0m \u001b[32m━━━━━━━━━━━━━━━━━━━━\u001b[0m\u001b[37m\u001b[0m \u001b[1m2s\u001b[0m 76ms/step - accuracy: 0.4063 - loss: 0.1056 - precision_8: 0.9713 - recall_8: 0.8785 - val_accuracy: 0.9778 - val_loss: 0.1044 - val_precision_8: 0.9704 - val_recall_8: 0.8751\n",
      "training ok\n"
     ]
    }
   ],
   "source": [
    "model_GRU.fit(x=entree, y=sortie_one_hot, batch_size=128, epochs=10, validation_split=0.2)\n",
    "print('training ok')"
   ]
  },
  {
   "cell_type": "markdown",
   "metadata": {},
   "source": [
    "### Prétraitement des données de test"
   ]
  },
  {
   "cell_type": "code",
   "execution_count": 96,
   "metadata": {},
   "outputs": [
    {
     "name": "stdout",
     "output_type": "stream",
     "text": [
      "Nombre d'exemples : 1033\n",
      "Taille maximale de la phrase : 32\n"
     ]
    }
   ],
   "source": [
    "with open(\"test_corpus\", \"r\", encoding=\"utf-8\") as file:\n",
    "    data_test = file.readlines()\n",
    "    \n",
    "num_examples_test, MAX_SEQ_SIZE_TEST = count_examples_and_max_length(data_test)\n",
    "\n",
    "\n",
    "vec_word_test, label_test_real = pad_sentences_from_file(\"test_corpus\", MAX_SEQ_SIZE)\n",
    "\n",
    "print(\"Nombre d'exemples :\", num_examples_test) \n",
    "print(\"Taille maximale de la phrase :\", MAX_SEQ_SIZE_TEST)\n",
    "\n",
    "# Création du vecteur d'entrée \n",
    "test_data_input = np.zeros((num_examples_test, MAX_SEQ_SIZE, 300))\n",
    "for i, sentence in enumerate(vec_word_test):\n",
    "    for j, word in enumerate(sentence):\n",
    "        if word:\n",
    "            test_data_input[i, j] = get_embedding(word)\n",
    "        else:\n",
    "            test_data_input[i, j] = np.zeros(300)"
   ]
  },
  {
   "cell_type": "code",
   "execution_count": 97,
   "metadata": {},
   "outputs": [
    {
     "name": "stdout",
     "output_type": "stream",
     "text": [
      "(1033, 41, 300)\n",
      "(1033, 41)\n",
      "(3945, 41, 300)\n"
     ]
    }
   ],
   "source": [
    "print(test_data_input.shape)\n",
    "print(label_test_real.shape)\n",
    "print(entree.shape)"
   ]
  },
  {
   "cell_type": "code",
   "execution_count": 98,
   "metadata": {},
   "outputs": [
    {
     "name": "stdout",
     "output_type": "stream",
     "text": [
      "(1033, 41, 81)\n"
     ]
    }
   ],
   "source": [
    "label_test_real_one_hot = np.zeros((label_test_real.shape[0], label_test_real.shape[1], len(label_one_hot_dict['O'])), dtype=int)\n",
    "zero_vec = np.zeros(len(label_one_hot_dict['O']), dtype=int)\n",
    "for i in range(label_test_real.shape[0]):\n",
    "    for j in range(label_test_real.shape[1]):\n",
    "        label = label_test_real[i, j]\n",
    "        if label == '0':\n",
    "            label_test_real_one_hot[i, j] = zero_vec\n",
    "        else:\n",
    "            label_test_real_one_hot[i, j] = label_one_hot_dict[label]\n",
    "\n",
    "print(label_test_real_one_hot.shape)"
   ]
  },
  {
   "cell_type": "markdown",
   "metadata": {},
   "source": [
    "### Prédictions"
   ]
  },
  {
   "cell_type": "markdown",
   "metadata": {},
   "source": [
    "#### Avec le modèle LSTM"
   ]
  },
  {
   "cell_type": "code",
   "execution_count": 99,
   "metadata": {},
   "outputs": [
    {
     "name": "stdout",
     "output_type": "stream",
     "text": [
      "\u001b[1m33/33\u001b[0m \u001b[32m━━━━━━━━━━━━━━━━━━━━\u001b[0m\u001b[37m\u001b[0m \u001b[1m1s\u001b[0m 19ms/step\n",
      "(1033, 41, 81)\n"
     ]
    }
   ],
   "source": [
    "test_predictions = model.predict(test_data_input)\n",
    "\n",
    "print(test_predictions.shape)"
   ]
  },
  {
   "cell_type": "code",
   "execution_count": 100,
   "metadata": {},
   "outputs": [],
   "source": [
    "predicted_labels_index = np.argmax(test_predictions, axis=-1)\n",
    "# print(predicted_labels_index[10])\n",
    "predicted_labels = [[labels[idx] for idx in sample] for sample in predicted_labels_index]\n",
    "predicted_labels = np.array(predicted_labels)\n",
    "# print(predicted_labels[10])"
   ]
  },
  {
   "cell_type": "code",
   "execution_count": 101,
   "metadata": {},
   "outputs": [
    {
     "name": "stdout",
     "output_type": "stream",
     "text": [
      "\u001b[1m33/33\u001b[0m \u001b[32m━━━━━━━━━━━━━━━━━━━━\u001b[0m\u001b[37m\u001b[0m \u001b[1m1s\u001b[0m 15ms/step - accuracy: 0.9796 - loss: 0.0828 - precision_7: 0.9655 - recall_7: 0.8971\n"
     ]
    }
   ],
   "source": [
    "_ = model.evaluate(test_data_input, label_test_real_one_hot)"
   ]
  },
  {
   "cell_type": "code",
   "execution_count": 102,
   "metadata": {},
   "outputs": [],
   "source": [
    "def write_predictions_to_file(file_path, vec_word_test, label_test_real, predicted_labels):\n",
    "    with open(file_path, 'w', encoding=\"utf-8\") as file:\n",
    "        for words, real_labels, predicted_labels in zip(vec_word_test, label_test_real, predicted_labels):\n",
    "            for word, real_label, predicted_label in zip(words, real_labels, predicted_labels):\n",
    "                if real_label == '0':\n",
    "                    break\n",
    "                word_length = max(len(word), 8)\n",
    "                file.write(f\"{word.ljust(word_length)}\\t{real_label.ljust(10)}\\t{predicted_label}\\n\")\n",
    "            file.write(\"===========================================================\\n\")"
   ]
  },
  {
   "cell_type": "code",
   "execution_count": 103,
   "metadata": {},
   "outputs": [],
   "source": [
    "write_predictions_to_file(\"predictions_LSTM.txt\", vec_word_test, label_test_real, predicted_labels)"
   ]
  },
  {
   "cell_type": "markdown",
   "metadata": {},
   "source": [
    "#### Avec le modèle GRU"
   ]
  },
  {
   "cell_type": "code",
   "execution_count": 104,
   "metadata": {},
   "outputs": [
    {
     "name": "stdout",
     "output_type": "stream",
     "text": [
      "\u001b[1m33/33\u001b[0m \u001b[32m━━━━━━━━━━━━━━━━━━━━\u001b[0m\u001b[37m\u001b[0m \u001b[1m1s\u001b[0m 19ms/step\n",
      "(1033, 41, 81)\n"
     ]
    }
   ],
   "source": [
    "test_predictions_GRU = model_GRU.predict(test_data_input)\n",
    "\n",
    "print(test_predictions_GRU.shape)"
   ]
  },
  {
   "cell_type": "code",
   "execution_count": 105,
   "metadata": {},
   "outputs": [],
   "source": [
    "predicted_labels_index_GRU = np.argmax(test_predictions_GRU, axis=-1)\n",
    "# print(predicted_labels_index[10])\n",
    "predicted_labels_GRU = [[labels[idx] for idx in sample] for sample in predicted_labels_index_GRU]\n",
    "predicted_labels_GRU = np.array(predicted_labels_GRU)\n",
    "# print(predicted_labels[10])"
   ]
  },
  {
   "cell_type": "code",
   "execution_count": 106,
   "metadata": {},
   "outputs": [
    {
     "name": "stdout",
     "output_type": "stream",
     "text": [
      "\u001b[1m33/33\u001b[0m \u001b[32m━━━━━━━━━━━━━━━━━━━━\u001b[0m\u001b[37m\u001b[0m \u001b[1m1s\u001b[0m 15ms/step - accuracy: 0.9776 - loss: 0.1205 - precision_8: 0.9629 - recall_8: 0.8794\n"
     ]
    }
   ],
   "source": [
    "_ = model_GRU.evaluate(test_data_input, label_test_real_one_hot)"
   ]
  },
  {
   "cell_type": "code",
   "execution_count": 107,
   "metadata": {},
   "outputs": [],
   "source": [
    "write_predictions_to_file(\"predictions_GRU.txt\", vec_word_test, label_test_real, predicted_labels_GRU)"
   ]
  }
 ],
 "metadata": {
  "kernelspec": {
   "display_name": "Python 3",
   "language": "python",
   "name": "python3"
  },
  "language_info": {
   "codemirror_mode": {
    "name": "ipython",
    "version": 3
   },
   "file_extension": ".py",
   "mimetype": "text/x-python",
   "name": "python",
   "nbconvert_exporter": "python",
   "pygments_lexer": "ipython3",
   "version": "3.10.12"
  }
 },
 "nbformat": 4,
 "nbformat_minor": 2
}
